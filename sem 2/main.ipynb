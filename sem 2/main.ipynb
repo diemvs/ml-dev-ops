{
 "cells": [
  {
   "cell_type": "code",
   "execution_count": 1,
   "metadata": {},
   "outputs": [],
   "source": [
    "import torch"
   ]
  },
  {
   "cell_type": "code",
   "execution_count": 11,
   "metadata": {},
   "outputs": [],
   "source": [
    "# Тензор с нормальным распределением (среднее 0, стандартное отклонение 1)\n",
    "normal_tensor = torch.randn((3, 3))\n",
    "\n",
    "# Тензор с равномерным распределением от 0 до 1\n",
    "uniform_tensor = torch.rand((3, 3))"
   ]
  },
  {
   "cell_type": "code",
   "execution_count": 12,
   "metadata": {},
   "outputs": [
    {
     "name": "stdout",
     "output_type": "stream",
     "text": [
      "tensor([[-0.2229, -1.1428, -0.0171],\n",
      "        [ 0.2290, -0.5734, -2.2093],\n",
      "        [-1.9888, -0.8727, -1.7653]])\n",
      "tensor([[0.2016, 0.8269, 0.1905],\n",
      "        [0.5261, 0.1697, 0.9757],\n",
      "        [0.0796, 0.3943, 0.0133]])\n"
     ]
    }
   ],
   "source": [
    "print(normal_tensor)\n",
    "print(uniform_tensor)"
   ]
  },
  {
   "cell_type": "code",
   "execution_count": 13,
   "metadata": {},
   "outputs": [
    {
     "data": {
      "text/plain": [
       "tensor([[-0.0213, -0.3159,  0.1734],\n",
       "        [ 0.7551, -0.4036, -1.2335],\n",
       "        [-1.9092, -0.4784, -1.7519]])"
      ]
     },
     "execution_count": 13,
     "metadata": {},
     "output_type": "execute_result"
    }
   ],
   "source": [
    "normal_tensor + uniform_tensor"
   ]
  },
  {
   "cell_type": "code",
   "execution_count": 14,
   "metadata": {},
   "outputs": [
    {
     "data": {
      "text/plain": [
       "tensor([[-0.0449, -0.9449, -0.0032],\n",
       "        [ 0.1205, -0.0973, -2.1556],\n",
       "        [-0.1583, -0.3441, -0.0236]])"
      ]
     },
     "execution_count": 14,
     "metadata": {},
     "output_type": "execute_result"
    }
   ],
   "source": [
    "normal_tensor * uniform_tensor"
   ]
  },
  {
   "cell_type": "code",
   "execution_count": 15,
   "metadata": {},
   "outputs": [
    {
     "data": {
      "text/plain": [
       "array([[-0.22287978, -1.1427733 , -0.01705786],\n",
       "       [ 0.22903423, -0.5733866 , -2.209275  ],\n",
       "       [-1.9888078 , -0.8727395 , -1.7652754 ]], dtype=float32)"
      ]
     },
     "execution_count": 15,
     "metadata": {},
     "output_type": "execute_result"
    }
   ],
   "source": [
    "normal_tensor.numpy()"
   ]
  },
  {
   "cell_type": "markdown",
   "metadata": {},
   "source": [
    "# 2 "
   ]
  },
  {
   "cell_type": "code",
   "execution_count": 21,
   "metadata": {},
   "outputs": [
    {
     "name": "stdout",
     "output_type": "stream",
     "text": [
      "Original Tensor:\n",
      "tensor([[0.0785, 0.6435, 0.8386, 0.9792],\n",
      "        [0.8248, 0.5619, 0.0903, 0.3506],\n",
      "        [0.1622, 0.1290, 0.7289, 0.5927],\n",
      "        [0.4801, 0.9543, 0.4592, 0.6445]])\n",
      "\n",
      "Modified Tensor:\n",
      "tensor([[0.0785, 0.6435, 0.8386, 0.9792],\n",
      "        [0.8248, 1.0000, 1.0000, 0.3506],\n",
      "        [0.1622, 1.0000, 1.0000, 0.5927],\n",
      "        [0.4801, 0.9543, 0.4592, 0.6445]])\n"
     ]
    }
   ],
   "source": [
    "# Создаем тензор размера 4x4, заполненный случайными числами\n",
    "tensor = torch.rand((4, 4))\n",
    "\n",
    "print(\"Original Tensor:\")\n",
    "print(tensor)\n",
    "\n",
    "# Получаем центральный 2x2 блок срезами\n",
    "central_block = tensor[1:3, 1:3]\n",
    "\n",
    "# Изменяем значения элементов в центральном блоке на 1\n",
    "central_block.fill_(1)\n",
    "\n",
    "print(\"\\nModified Tensor:\")\n",
    "print(tensor)"
   ]
  },
  {
   "cell_type": "markdown",
   "metadata": {},
   "source": [
    "# 3"
   ]
  },
  {
   "cell_type": "code",
   "execution_count": 24,
   "metadata": {},
   "outputs": [
    {
     "name": "stdout",
     "output_type": "stream",
     "text": [
      "Gradient of y at x = 3.0: tensor(124.)\n"
     ]
    }
   ],
   "source": [
    "# Создаем тензор x с requires_grad=True\n",
    "x = torch.tensor(3.0, requires_grad=True)\n",
    "\n",
    "# Определяем функцию y = 5x^3 - 2x^2 + x + 1\n",
    "y = 5 * x**3 - 2 * x**2 + x + 1\n",
    "\n",
    "# Вычисляем градиент функции y в точке x = 3.0\n",
    "y.backward()\n",
    "\n",
    "# Градиент хранится в x.grad\n",
    "print(\"Gradient of y at x = 3.0:\", x.grad)"
   ]
  },
  {
   "cell_type": "markdown",
   "metadata": {},
   "source": [
    "# 4"
   ]
  },
  {
   "cell_type": "code",
   "execution_count": 42,
   "metadata": {},
   "outputs": [
    {
     "name": "stdout",
     "output_type": "stream",
     "text": [
      "Output Tensor Size: torch.Size([1, 2])\n"
     ]
    }
   ],
   "source": [
    "import torch.nn as nn\n",
    "\n",
    "class SimpleNN(nn.Module):\n",
    "    def __init__(self, input_size, output_size):\n",
    "        super(SimpleNN, self).__init__()\n",
    "        self.layer1 = nn.Linear(input_size, 5)  # Первый полносвязный слой (10 -> 5)\n",
    "        self.relu = nn.ReLU()                   # Функция активации ReLU\n",
    "        self.layer2 = nn.Linear(5, output_size) # Второй полносвязный слой (5 -> 2)\n",
    "\n",
    "    def forward(self, x):\n",
    "        x = self.layer1(x)\n",
    "        x = self.relu(x)\n",
    "        x = self.layer2(x)\n",
    "        return x\n",
    "\n",
    "# Создаем модель\n",
    "model = SimpleNN(input_size=10, output_size=2)\n",
    "\n",
    "# Проверяем размер выходного тензора\n",
    "input_tensor = torch.rand((1, 10))  # Случайный вход размером (1, 10)\n",
    "output_tensor = model(input_tensor)\n",
    "\n",
    "print(\"Output Tensor Size:\", output_tensor.size())"
   ]
  },
  {
   "cell_type": "markdown",
   "metadata": {},
   "source": [
    "# 5"
   ]
  },
  {
   "cell_type": "code",
   "execution_count": null,
   "metadata": {},
   "outputs": [
    {
     "name": "stdout",
     "output_type": "stream",
     "text": [
      "MPS device found and will be used.\n",
      "Epoch [1/5], Loss: 0.46391023040564455\n",
      "Epoch [2/5], Loss: 0.22583259104776865\n",
      "Epoch [3/5], Loss: 0.17078456466894415\n",
      "Epoch [4/5], Loss: 0.13758018934157992\n",
      "Epoch [5/5], Loss: 0.11578888753985069\n",
      "Accuracy on test dataset: 96.78%\n"
     ]
    }
   ],
   "source": [
    "import torch\n",
    "import torch.nn as nn\n",
    "import torch.optim as optim\n",
    "import torchvision\n",
    "import torchvision.transforms as transforms\n",
    "from torch.utils.data import DataLoader\n",
    "\n",
    "# Проверяем, доступно ли устройство MPS\n",
    "if torch.backends.mps.is_available():\n",
    "    mps_device = torch.device(\"mps\")\n",
    "    print(\"MPS device found and will be used.\")\n",
    "else:\n",
    "    print(\"MPS device not found.\")\n",
    "    mps_device = torch.device(\"cpu\") \n",
    "\n",
    "# Задаем трансформации для нормализации данных MNIST\n",
    "transform = transforms.Compose([\n",
    "    transforms.ToTensor(),\n",
    "])\n",
    "\n",
    "# Загружаем тренировочные и тестовые данные MNIST\n",
    "train_dataset = torchvision.datasets.MNIST(root='./data', train=True, download=True, transform=transform)\n",
    "test_dataset = torchvision.datasets.MNIST(root='./data', train=False, download=True, transform=transform)\n",
    "\n",
    "# Создаем DataLoader для батчей\n",
    "train_loader = DataLoader(train_dataset, batch_size=64, shuffle=True)\n",
    "test_loader = DataLoader(test_dataset, batch_size=64, shuffle=False)\n",
    "\n",
    "# Определяем модель нейронной сети с двумя линейными слоями\n",
    "class SimpleNN(nn.Module):\n",
    "    def __init__(self):\n",
    "        super(SimpleNN, self).__init__()\n",
    "        self.layer1 = nn.Linear(28*28, 128)\n",
    "        self.relu = nn.ReLU()\n",
    "        self.layer2 = nn.Linear(128, 10)\n",
    "\n",
    "    def forward(self, x):\n",
    "        x = x.view(-1, 28*28)\n",
    "        x = self.layer1(x)\n",
    "        x = self.relu(x)\n",
    "        x = self.layer2(x)\n",
    "        return x\n",
    "\n",
    "# Инициализируем модель, функцию потерь и оптимизатор\n",
    "model = SimpleNN().to(mps_device)\n",
    "criterion = nn.CrossEntropyLoss()\n",
    "optimizer = optim.SGD(model.parameters(), lr=0.01, momentum=0.9)\n",
    "\n",
    "# Обучение модели\n",
    "num_epochs = 5\n",
    "for epoch in range(num_epochs):\n",
    "    running_loss = 0.0\n",
    "    for inputs, labels in train_loader:\n",
    "        # Перемещаем данные на нужное устройство\n",
    "        inputs, labels = inputs.to(mps_device), labels.to(mps_device)\n",
    "\n",
    "        # Обнуляем градиенты\n",
    "        optimizer.zero_grad()\n",
    "\n",
    "        # Прямой проход\n",
    "        outputs = model(inputs)\n",
    "\n",
    "        # Вычисляем потерю\n",
    "        loss = criterion(outputs, labels)\n",
    "\n",
    "        # Обратный проход и обновление весов\n",
    "        loss.backward()\n",
    "        optimizer.step()\n",
    "\n",
    "        running_loss += loss.item()\n",
    "\n",
    "    print(f\"Epoch [{epoch+1}/{num_epochs}], Loss: {running_loss/len(train_loader)}\")\n",
    "\n",
    "# Оценка точности на тестовом наборе данных\n",
    "correct = 0\n",
    "total = 0\n",
    "with torch.no_grad():  # Не вычисляем градиенты во время тестирования\n",
    "    for inputs, labels in test_loader:\n",
    "        # Перемещаем данные на нужное устройство\n",
    "        inputs, labels = inputs.to(mps_device), labels.to(mps_device)\n",
    "\n",
    "        outputs = model(inputs)\n",
    "        _, predicted = torch.max(outputs.data, 1)\n",
    "        total += labels.size(0)\n",
    "        correct += (predicted == labels).sum().item()\n",
    "\n",
    "accuracy = 100 * correct / total\n",
    "print(f\"Accuracy on test dataset: {accuracy}%\")\n"
   ]
  },
  {
   "cell_type": "markdown",
   "metadata": {},
   "source": [
    "# 6"
   ]
  },
  {
   "cell_type": "code",
   "execution_count": 41,
   "metadata": {},
   "outputs": [
    {
     "name": "stdout",
     "output_type": "stream",
     "text": [
      "MPS device found and will be used.\n",
      "Epoch [1/5], Loss: 0.742285644861935\n",
      "Epoch [2/5], Loss: 0.4529536496093278\n",
      "Epoch [3/5], Loss: 0.4011625550798516\n",
      "Epoch [4/5], Loss: 0.37418753988167114\n",
      "Epoch [5/5], Loss: 0.3518090529212438\n",
      "Accuracy on test dataset: 89.81%\n"
     ]
    }
   ],
   "source": [
    "import torch\n",
    "import torch.nn as nn\n",
    "import torch.optim as optim\n",
    "import torchvision\n",
    "import torchvision.transforms as transforms\n",
    "from torch.utils.data import DataLoader\n",
    "\n",
    "# Проверяем, доступно ли устройство MPS\n",
    "if torch.backends.mps.is_available():\n",
    "    mps_device = torch.device(\"mps\")\n",
    "    print(\"MPS device found and will be used.\")\n",
    "else:\n",
    "    print(\"MPS device not found.\")\n",
    "    mps_device = torch.device(\"cpu\") \n",
    "\n",
    "# Задаем трансформации для нормализации данных MNIST\n",
    "transform = transforms.Compose([\n",
    "    transforms.ToTensor(),\n",
    "])\n",
    "\n",
    "# Загружаем тренировочные и тестовые данные MNIST\n",
    "train_dataset = torchvision.datasets.MNIST(root='./data', train=True, download=True, transform=transform)\n",
    "test_dataset = torchvision.datasets.MNIST(root='./data', train=False, download=True, transform=transform)\n",
    "\n",
    "# Создаем DataLoader для батчей\n",
    "train_loader = DataLoader(train_dataset, batch_size=64, shuffle=True)\n",
    "test_loader = DataLoader(test_dataset, batch_size=64, shuffle=False)\n",
    "\n",
    "# Определяем модель нейронной сети с двумя линейными слоями\n",
    "class DropoutNN(nn.Module):\n",
    "    def __init__(self):\n",
    "        super(DropoutNN, self).__init__()\n",
    "\n",
    "        self.layers = nn.Sequential(\n",
    "            nn.Linear(28*28, 128),\n",
    "            nn.Dropout(),\n",
    "            nn.ReLU(),\n",
    "            nn.Dropout(),\n",
    "            nn.Linear(128, 10),\n",
    "        )\n",
    "\n",
    "    def forward(self, x):\n",
    "        x = x.view(-1, 28*28)\n",
    "        return self.layers(x)\n",
    "\n",
    "# Инициализируем модель, функцию потерь и оптимизатор\n",
    "model = DropoutNN().to(mps_device)\n",
    "criterion = nn.CrossEntropyLoss()\n",
    "optimizer = optim.SGD(model.parameters(), lr=0.01, momentum=0.9)\n",
    "\n",
    "# Обучение модели\n",
    "num_epochs = 5\n",
    "for epoch in range(num_epochs):\n",
    "    running_loss = 0.0\n",
    "    for inputs, labels in train_loader:\n",
    "        # Перемещаем данные на нужное устройство\n",
    "        inputs, labels = inputs.to(mps_device), labels.to(mps_device)\n",
    "\n",
    "        # Обнуляем градиенты\n",
    "        optimizer.zero_grad()\n",
    "\n",
    "        # Прямой проход\n",
    "        outputs = model(inputs)\n",
    "\n",
    "        # Вычисляем потерю\n",
    "        loss = criterion(outputs, labels)\n",
    "\n",
    "        # Обратный проход и обновление весов\n",
    "        loss.backward()\n",
    "        optimizer.step()\n",
    "\n",
    "        running_loss += loss.item()\n",
    "\n",
    "    print(f\"Epoch [{epoch+1}/{num_epochs}], Loss: {running_loss/len(train_loader)}\")\n",
    "\n",
    "# Оценка точности на тестовом наборе данных\n",
    "correct = 0\n",
    "total = 0\n",
    "with torch.no_grad():  # Не вычисляем градиенты во время тестирования\n",
    "    for inputs, labels in test_loader:\n",
    "        # Перемещаем данные на нужное устройство\n",
    "        inputs, labels = inputs.to(mps_device), labels.to(mps_device)\n",
    "\n",
    "        outputs = model(inputs)\n",
    "        _, predicted = torch.max(outputs.data, 1)\n",
    "        total += labels.size(0)\n",
    "        correct += (predicted == labels).sum().item()\n",
    "\n",
    "accuracy = 100 * correct / total\n",
    "print(f\"Accuracy on test dataset: {accuracy}%\")\n"
   ]
  },
  {
   "cell_type": "markdown",
   "metadata": {},
   "source": [
    "# 7"
   ]
  },
  {
   "cell_type": "code",
   "execution_count": null,
   "metadata": {},
   "outputs": [],
   "source": []
  }
 ],
 "metadata": {
  "kernelspec": {
   "display_name": "ml",
   "language": "python",
   "name": "python3"
  },
  "language_info": {
   "codemirror_mode": {
    "name": "ipython",
    "version": 3
   },
   "file_extension": ".py",
   "mimetype": "text/x-python",
   "name": "python",
   "nbconvert_exporter": "python",
   "pygments_lexer": "ipython3",
   "version": "3.10.16"
  }
 },
 "nbformat": 4,
 "nbformat_minor": 2
}
