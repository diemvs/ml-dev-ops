{
 "cells": [
  {
   "cell_type": "code",
   "execution_count": 1,
   "metadata": {},
   "outputs": [
    {
     "name": "stdout",
     "output_type": "stream",
     "text": [
      "Все библиотеки успешно установлены!\n"
     ]
    }
   ],
   "source": [
    "import torch\n",
    "import torchvision\n",
    "import matplotlib\n",
    "import onnxruntime\n",
    "import tensorboard\n",
    "print(\"Все библиотеки успешно установлены!\")"
   ]
  },
  {
   "cell_type": "code",
   "execution_count": 2,
   "metadata": {},
   "outputs": [
    {
     "name": "stdout",
     "output_type": "stream",
     "text": [
      "TensorFlow installation not found - running with reduced feature set.\n",
      "Serving TensorBoard on localhost; to expose to the network, use a proxy or pass --bind_all\n",
      "TensorBoard 2.18.0 at http://localhost:6006/ (Press CTRL+C to quit)\n",
      "W0111 11:53:24.165553 6173044736 application.py:559] path /apple-touch-icon-precomposed.png not found, sending 404\n",
      "W0111 11:53:24.222323 6156218368 application.py:559] path /apple-touch-icon.png not found, sending 404\n",
      "^C\n"
     ]
    }
   ],
   "source": [
    "!tensorboard --logdir=runs"
   ]
  },
  {
   "cell_type": "code",
   "execution_count": 4,
   "metadata": {},
   "outputs": [
    {
     "name": "stdout",
     "output_type": "stream",
     "text": [
      "PyTorch версия: 2.5.1\n",
      "Torchvision версия: 0.20.1\n",
      "Matplotlib версия: 3.10.0\n",
      "ONNX Runtime версия: 1.20.1\n",
      "TensorBoard версия: 2.18.0\n",
      "CUDA недоступна. Используется CPU.\n"
     ]
    }
   ],
   "source": [
    "import torch\n",
    "import torchvision\n",
    "import matplotlib.pyplot as plt\n",
    "import onnxruntime as ort\n",
    "import tensorboard\n",
    "\n",
    "print(\"PyTorch версия:\", torch.__version__)\n",
    "print(\"Torchvision версия:\", torchvision.__version__)\n",
    "print(\"Matplotlib версия:\", matplotlib.__version__)\n",
    "print(\"ONNX Runtime версия:\", ort.__version__)\n",
    "print(\"TensorBoard версия:\", tensorboard.__version__)\n",
    "\n",
    "# Проверка доступности GPU\n",
    "if torch.cuda.is_available():\n",
    "    print(\"CUDA доступна. Используется GPU:\", torch.cuda.get_device_name(0))\n",
    "else:\n",
    "    print(\"CUDA недоступна. Используется CPU.\")"
   ]
  },
  {
   "cell_type": "code",
   "execution_count": 10,
   "metadata": {},
   "outputs": [
    {
     "name": "stdout",
     "output_type": "stream",
     "text": [
      "Clipping input data to the valid range for imshow with RGB data ([0..1] for floats or [0..255] for integers). Got range [0.28789353..1.9107434].\n",
      "Figure(640x480)\n",
      "GroundTruth:  0 0 6 0\n"
     ]
    }
   ],
   "source": [
    "!python project.py"
   ]
  },
  {
   "cell_type": "code",
   "execution_count": 11,
   "metadata": {},
   "outputs": [
    {
     "name": "stdout",
     "output_type": "stream",
     "text": [
      "TensorFlow installation not found - running with reduced feature set.\n",
      "Serving TensorBoard on localhost; to expose to the network, use a proxy or pass --bind_all\n",
      "TensorBoard 2.18.0 at http://localhost:6006/ (Press CTRL+C to quit)\n",
      "^C\n"
     ]
    }
   ],
   "source": [
    "!tensorboard --logdir=runs"
   ]
  }
 ],
 "metadata": {
  "kernelspec": {
   "display_name": "ml",
   "language": "python",
   "name": "python3"
  },
  "language_info": {
   "codemirror_mode": {
    "name": "ipython",
    "version": 3
   },
   "file_extension": ".py",
   "mimetype": "text/x-python",
   "name": "python",
   "nbconvert_exporter": "python",
   "pygments_lexer": "ipython3",
   "version": "3.10.16"
  }
 },
 "nbformat": 4,
 "nbformat_minor": 2
}
